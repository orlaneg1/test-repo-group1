{
  "nbformat": 4,
  "nbformat_minor": 0,
  "metadata": {
    "colab": {
      "provenance": []
    },
    "kernelspec": {
      "name": "python3",
      "display_name": "Python 3"
    },
    "language_info": {
      "name": "python"
    }
  },
  "cells": [
    {
      "cell_type": "code",
      "execution_count": null,
      "metadata": {
        "colab": {
          "base_uri": "https://localhost:8080/"
        },
        "id": "VEbLf-76DJbj",
        "outputId": "8c2556f7-58ee-4d35-dc7a-8b758584e74f"
      },
      "outputs": [
        {
          "output_type": "stream",
          "name": "stdout",
          "text": [
            "10\n",
            "Stelios\n",
            "London Paris\n"
          ]
        }
      ],
      "source": [
        "print(10)\n",
        "print(\"Stelios\")\n",
        "print(\"London\",\"Paris\")"
      ]
    },
    {
      "cell_type": "code",
      "source": [
        "print(10*2)"
      ],
      "metadata": {
        "colab": {
          "base_uri": "https://localhost:8080/"
        },
        "id": "nncILRDYEWrN",
        "outputId": "3309c93c-7ceb-4433-f02d-5c2a3f70a0b1"
      },
      "execution_count": null,
      "outputs": [
        {
          "output_type": "stream",
          "name": "stdout",
          "text": [
            "20\n"
          ]
        }
      ]
    },
    {
      "cell_type": "code",
      "source": [
        "input(\"Enter your name:\")"
      ],
      "metadata": {
        "colab": {
          "base_uri": "https://localhost:8080/",
          "height": 53
        },
        "id": "zlBlgPaTEvHE",
        "outputId": "c36d7ae7-8e7a-4a96-989b-4dd078ae0d6f"
      },
      "execution_count": null,
      "outputs": [
        {
          "name": "stdout",
          "output_type": "stream",
          "text": [
            "Enter your name:Stelios\n"
          ]
        },
        {
          "output_type": "execute_result",
          "data": {
            "text/plain": [
              "'Stelios'"
            ],
            "application/vnd.google.colaboratory.intrinsic+json": {
              "type": "string"
            }
          },
          "metadata": {},
          "execution_count": 6
        }
      ]
    },
    {
      "cell_type": "code",
      "source": [
        "# Print number 10.10\n",
        "print(10.10)"
      ],
      "metadata": {
        "colab": {
          "base_uri": "https://localhost:8080/"
        },
        "id": "8588CvcIFIV4",
        "outputId": "bc85fb9c-4432-4d65-a6f0-341e1ee44ebb"
      },
      "execution_count": null,
      "outputs": [
        {
          "output_type": "stream",
          "name": "stdout",
          "text": [
            "10.1\n"
          ]
        }
      ]
    },
    {
      "cell_type": "code",
      "source": [
        "X = 10.20\n",
        "name = \"Stelios\"\n",
        "print(X)\n",
        "print(name)"
      ],
      "metadata": {
        "colab": {
          "base_uri": "https://localhost:8080/"
        },
        "id": "4aBwyT5xGFVg",
        "outputId": "e7076fd0-507b-4011-8645-715e5ae6427f"
      },
      "execution_count": null,
      "outputs": [
        {
          "output_type": "stream",
          "name": "stdout",
          "text": [
            "10.2\n",
            "Stelios\n"
          ]
        }
      ]
    },
    {
      "cell_type": "code",
      "source": [
        "# Ask the user what is their city\n",
        "# Print the user city\n",
        "# * Use a variable\n",
        "city = input(\"What is your city:\")\n",
        "print(city)\n",
        "name = input(\"What is your name:\")\n",
        "print(name)"
      ],
      "metadata": {
        "colab": {
          "base_uri": "https://localhost:8080/"
        },
        "id": "eCSGwSCeG86T",
        "outputId": "26c5206a-f8ce-4153-dd83-fbd8ecda5a8c"
      },
      "execution_count": null,
      "outputs": [
        {
          "output_type": "stream",
          "name": "stdout",
          "text": [
            "What is your city:France\n",
            "France\n",
            "What is your name:Orlane\n",
            "Orlane\n"
          ]
        }
      ]
    },
    {
      "cell_type": "code",
      "source": [
        "x = float(input(\"Enter a number:\"))\n",
        "y = int(input(\"Enter a second number\"))\n",
        "print(\"Result is\",x+y)"
      ],
      "metadata": {
        "colab": {
          "base_uri": "https://localhost:8080/"
        },
        "id": "-BB9QM8fIa7e",
        "outputId": "0d3b9098-9f5d-40b0-b341-2ab0bfe9aeea"
      },
      "execution_count": null,
      "outputs": [
        {
          "output_type": "stream",
          "name": "stdout",
          "text": [
            "Enter a number:34\n",
            "Enter a second number12\n",
            "Result is 46.0\n"
          ]
        }
      ]
    },
    {
      "cell_type": "code",
      "source": [
        "# Create a program, ask the user to give you 3 integers.\n",
        "# Then find the product of the values (a*b*c)\n",
        "# 1 2 3\n",
        "# Print the result in the form The product is: 6\n",
        "a = int(input(\"Give me an integer:\"))\n",
        "b = int(input(\"Give me a second integer:\"))\n",
        "c = int(input(\"Give me a third integer:\"))\n",
        "print(\"The Product is\",a*b*c)"
      ],
      "metadata": {
        "colab": {
          "base_uri": "https://localhost:8080/"
        },
        "id": "saNQ08yaKQwJ",
        "outputId": "e746550c-ae56-4ba6-83bf-641260e87367"
      },
      "execution_count": null,
      "outputs": [
        {
          "output_type": "stream",
          "name": "stdout",
          "text": [
            "Give me an integer:1\n",
            "Give me a second integer:2\n",
            "Give me a third integer:3\n",
            "The Product is 6\n"
          ]
        }
      ]
    },
    {
      "cell_type": "code",
      "source": [
        "# Ask the user to enter two numbers\n",
        "# Divide the numbers (float)\n",
        "# a\n",
        "# b\n",
        "# a/b\n",
        "\n",
        "a=float(input(\"Enter a number:\"))\n",
        "b=float(input(\"Enter a number:\"))\n",
        "print(a/b)"
      ],
      "metadata": {
        "colab": {
          "base_uri": "https://localhost:8080/"
        },
        "id": "894J2gAKLwfn",
        "outputId": "75ea15a8-cbeb-4830-b369-1d8a2eeb8adf"
      },
      "execution_count": null,
      "outputs": [
        {
          "output_type": "stream",
          "name": "stdout",
          "text": [
            "Enter a number:6\n",
            "Enter a number:2\n",
            "3.0\n"
          ]
        }
      ]
    },
    {
      "cell_type": "code",
      "source": [
        "x = float(input(\"Enter a number\"))\n",
        "y = float(input(\"Enter a number\"))\n",
        "if y == 0:\n",
        "  print(\"I cannot divide\")\n",
        "else:\n",
        "  print(x/y)"
      ],
      "metadata": {
        "colab": {
          "base_uri": "https://localhost:8080/"
        },
        "id": "kLKthVbZMbQF",
        "outputId": "f5593427-c706-4276-ed78-dc156f3bdebd"
      },
      "execution_count": null,
      "outputs": [
        {
          "output_type": "stream",
          "name": "stdout",
          "text": [
            "Enter a number435\n",
            "Enter a number34\n",
            "12.794117647058824\n"
          ]
        }
      ]
    },
    {
      "cell_type": "markdown",
      "source": [],
      "metadata": {
        "id": "e14ZmbxHNUXM"
      }
    },
    {
      "cell_type": "code",
      "source": [
        "city = input(\"Enter a city:\")\n",
        "\n",
        "if city==\"Paris\":\n",
        "  print(\"Bonjour\")\n",
        "  print(10)\n",
        "else:\n",
        "  print(\"Hi!\")\n",
        "  print(100)"
      ],
      "metadata": {
        "colab": {
          "base_uri": "https://localhost:8080/"
        },
        "id": "IZ9qyCRQNPZ4",
        "outputId": "6dc9bb2b-5df8-4b81-d29c-7ab8a31847b6"
      },
      "execution_count": null,
      "outputs": [
        {
          "output_type": "stream",
          "name": "stdout",
          "text": [
            "Enter a city:Paris\n",
            "Bonjour\n",
            "10\n"
          ]
        }
      ]
    },
    {
      "cell_type": "markdown",
      "source": [
        "Exercise 1\n",
        "\n",
        "Create a program to ask the user their name and their age.\n",
        "\n",
        "If the user is over 18, then print you are an adult. If the user is less than 18, you are a kid!**bold text**"
      ],
      "metadata": {
        "id": "94dfmeqDR1lx"
      }
    },
    {
      "cell_type": "code",
      "source": [
        "name = input(\"What is your name?:\")\n",
        "age = int(input(\"What is your age:\"))\n",
        "if age >= 18:\n",
        "  print(\"You are an adult!\")\n",
        "else:\n",
        "  print(\"You are a kid!\")"
      ],
      "metadata": {
        "colab": {
          "base_uri": "https://localhost:8080/"
        },
        "id": "hSparjZISKQw",
        "outputId": "0723387c-3676-461d-8128-3ef8626cc46f"
      },
      "execution_count": null,
      "outputs": [
        {
          "output_type": "stream",
          "name": "stdout",
          "text": [
            "What is your name?:Orlane\n",
            "What is your age:18\n",
            "You are an adult!\n"
          ]
        }
      ]
    },
    {
      "cell_type": "code",
      "source": [
        "# > < >= <= NOT EQUAL(<> , !=)"
      ],
      "metadata": {
        "id": "2Vv4vfjuT0uM"
      },
      "execution_count": null,
      "outputs": []
    },
    {
      "cell_type": "markdown",
      "source": [
        "Create a program, ask the user to enter two numbers.\n",
        "\n",
        "Print the maximum number."
      ],
      "metadata": {
        "id": "2HawDGBVUYOF"
      }
    },
    {
      "cell_type": "code",
      "source": [
        "a = float(input(\"Enter number a:\"))\n",
        "b = float(input(\"Enter number b:\"))\n",
        "if a > b:\n",
        "  print (a)\n",
        "else:\n",
        "  print(b)"
      ],
      "metadata": {
        "colab": {
          "base_uri": "https://localhost:8080/"
        },
        "id": "Ol6abOSaUhsO",
        "outputId": "0d72b0f1-f57e-4042-d22f-0f7da8be8b6a"
      },
      "execution_count": null,
      "outputs": [
        {
          "output_type": "stream",
          "name": "stdout",
          "text": [
            "Enter number a:10\n",
            "Enter number b:10\n",
            "10.0\n"
          ]
        }
      ]
    },
    {
      "cell_type": "code",
      "source": [
        "x = 10\n",
        "y = 20\n",
        "if x>y:\n",
        "  print(\"x is greater than y\")\n",
        "elif x<y:\n",
        "  print(\"x is less than y\")\n",
        "else:\n",
        "  print(\"x is equal to y\")"
      ],
      "metadata": {
        "colab": {
          "base_uri": "https://localhost:8080/"
        },
        "id": "OoQW5YwMV3a6",
        "outputId": "d6f9eee0-915e-4750-8415-ed9f474e8613"
      },
      "execution_count": null,
      "outputs": [
        {
          "output_type": "stream",
          "name": "stdout",
          "text": [
            "x is less than y\n"
          ]
        }
      ]
    },
    {
      "cell_type": "markdown",
      "source": [
        "Create a program to ask the user to enter a score.\n",
        "* if the score is less than 50 you failed.\n",
        "* if the score is between 50 and 70 is pass.\n",
        "* if the score is greater than 70 is distinction."
      ],
      "metadata": {
        "id": "GbDaroy5Wbnn"
      }
    },
    {
      "cell_type": "code",
      "source": [
        "score = int(input(\"What is you score\"))\n",
        "if score>0 and score < 50:\n",
        "  print(\"You failed\")\n",
        "elif score >= 50 and score <70:\n",
        "  print(\"You passed\")\n",
        "elif score >=70 and score <=100:\n",
        "  print(\"You passed with distinction\")\n",
        "else:\n",
        "  print(\"Something is wrong\")"
      ],
      "metadata": {
        "colab": {
          "base_uri": "https://localhost:8080/"
        },
        "id": "M6DGF50dWrfd",
        "outputId": "3254e899-3617-424b-9c9c-93123a1c8043"
      },
      "execution_count": null,
      "outputs": [
        {
          "output_type": "stream",
          "name": "stdout",
          "text": [
            "What is you score100\n",
            "You passed with distinction\n"
          ]
        }
      ]
    }
  ]
}