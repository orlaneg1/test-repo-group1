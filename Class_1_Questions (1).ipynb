{
  "nbformat": 4,
  "nbformat_minor": 0,
  "metadata": {
    "colab": {
      "name": "Demystifying Comp Class 1 Questions.ipynb",
      "provenance": [],
      "collapsed_sections": []
    },
    "kernelspec": {
      "name": "python3",
      "display_name": "Python 3"
    }
  },
  "cells": [
    {
      "cell_type": "markdown",
      "metadata": {
        "id": "37nZbUCQK6zA"
      },
      "source": [
        "# Welcome to Class 1 exercises.\n",
        "\n",
        "**Answer the following questions using Python programming language and the slides of class 1.**"
      ]
    },
    {
      "cell_type": "markdown",
      "metadata": {
        "id": "H3ANuhW9LAa5"
      },
      "source": [
        "**Question 1:** Create a program to print the following:\n",
        "\n",
        "*Hello World!*"
      ]
    },
    {
      "cell_type": "code",
      "metadata": {
        "id": "SS-I9I49K5wK",
        "colab": {
          "base_uri": "https://localhost:8080/",
          "height": 34
        },
        "outputId": "2ddd4156-d180-43f5-876e-b8e62ed5aef7"
      },
      "source": [
        "# Provide your solution here\n",
        "\n"
      ],
      "execution_count": null,
      "outputs": [
        {
          "output_type": "stream",
          "text": [
            "Hello World!\n"
          ],
          "name": "stdout"
        }
      ]
    },
    {
      "cell_type": "markdown",
      "metadata": {
        "id": "l_PFVnGuqVUZ"
      },
      "source": [
        "**Question 2:** Study and run the following code, what does it print?"
      ]
    },
    {
      "cell_type": "code",
      "metadata": {
        "colab": {
          "base_uri": "https://localhost:8080/"
        },
        "id": "TPzCZeplqaZL",
        "outputId": "1ad787e8-7b16-4de4-a072-713f68628bd4"
      },
      "source": [
        "print(\"Hi\")\r\n",
        "print(\"There!\")\r\n",
        "\r\n",
        "# This will print:\r\n",
        "#   Hi\r\n",
        "#   There!\r\n",
        "# "
      ],
      "execution_count": null,
      "outputs": [
        {
          "output_type": "stream",
          "text": [
            "Hi\n",
            "There!\n"
          ],
          "name": "stdout"
        }
      ]
    },
    {
      "cell_type": "markdown",
      "metadata": {
        "id": "A2sx4DhBOswJ"
      },
      "source": [
        "<img src='https://drive.google.com/uc?id=1WQphg5JK-cVYpbiVfPtOjz9yONtQKSnY' width=\"50\" height=\"50\"> \r\n",
        "> You can use multiple print statements."
      ]
    },
    {
      "cell_type": "markdown",
      "metadata": {
        "id": "fXFVTrIeL1KD"
      },
      "source": [
        "**Question 2:** Create a program to print the following:\n",
        "\n",
        "*Hello,*\n",
        "\n",
        "*I am learning Python!* \n",
        "\n",
        "You can use as many **print** statements as you like."
      ]
    },
    {
      "cell_type": "code",
      "metadata": {
        "id": "yxkwT8TkL2nV",
        "colab": {
          "base_uri": "https://localhost:8080/",
          "height": 50
        },
        "outputId": "294f4ba0-3bec-41be-d07a-dc2393a7981e"
      },
      "source": [
        "# Provide your solution here\n",
        "\n"
      ],
      "execution_count": null,
      "outputs": [
        {
          "output_type": "stream",
          "text": [
            "Hello,\n",
            "I am learning Python!\n"
          ],
          "name": "stdout"
        }
      ]
    },
    {
      "cell_type": "markdown",
      "metadata": {
        "id": "DqlgYVB0qyKO"
      },
      "source": [
        "**Question 3.1:** Study and run the following program.\r\n",
        "\r\n",
        "What this program does?"
      ]
    },
    {
      "cell_type": "code",
      "metadata": {
        "colab": {
          "base_uri": "https://localhost:8080/"
        },
        "id": "SmbTlXDoqyPx",
        "outputId": "f52db591-b04b-4c55-cc31-0a1dff8e44cb"
      },
      "source": [
        "address = input(\"What is your address?\")\r\n",
        "print(address)\r\n",
        "\r\n",
        "# Did you notice the space after the questionmark?\r\n",
        "address = input(\"What is your address? \")\r\n",
        "print(address)\r\n",
        "\r\n",
        "# What this program does?\r\n",
        "# Prompts the user to enter an address\r\n",
        "# Stores the address in a variable called address\r\n",
        "# Prints the address"
      ],
      "execution_count": null,
      "outputs": [
        {
          "output_type": "stream",
          "text": [
            "What is your address?10 King rd\n",
            "10 King rd\n",
            "What is your address? 10 King rd\n",
            "10 King rd\n"
          ],
          "name": "stdout"
        }
      ]
    },
    {
      "cell_type": "markdown",
      "metadata": {
        "id": "2zxV6nUrLD_Y"
      },
      "source": [
        "**Question 3.2:** Prompt the user to enter a name and then print it."
      ]
    },
    {
      "cell_type": "code",
      "metadata": {
        "id": "tdZKvEUaMa8k",
        "colab": {
          "base_uri": "https://localhost:8080/",
          "height": 50
        },
        "outputId": "b569840e-bc06-4bad-c114-dc38a78cae2a"
      },
      "source": [
        "# Provide your solution here\n",
        "\n"
      ],
      "execution_count": null,
      "outputs": [
        {
          "output_type": "stream",
          "text": [
            "Input your name: Stelios\n",
            "Stelios\n"
          ],
          "name": "stdout"
        }
      ]
    },
    {
      "cell_type": "markdown",
      "metadata": {
        "id": "PTyK7NXZSy1O"
      },
      "source": [
        "**Question 3.3:** Study and run the following code."
      ]
    },
    {
      "cell_type": "code",
      "metadata": {
        "id": "pQpRZ7Y5Sy7_"
      },
      "source": [
        "# We can prompt the use to enter multiple values, one after the other\r\n",
        "\r\n",
        "fname = input(\"Input your firstname: \")\r\n",
        "sname = input(\"Input your surname: \")\r\n",
        "\r\n",
        "print(\"fname is: \", fname)\r\n",
        "print(\"sname is: \", sname)\r\n",
        "\r\n",
        "# Or \r\n",
        "\r\n",
        "# We seperate by text and variables by commas \r\n",
        "print(\"fname is:\", fname, \"sname is:\",sname, \".\")"
      ],
      "execution_count": null,
      "outputs": []
    },
    {
      "cell_type": "markdown",
      "metadata": {
        "id": "TCaPLDYWO6QF"
      },
      "source": [
        "<img src='https://drive.google.com/uc?id=1zHRUx7gL2e5LMUMQ1_zPt6V0MI-v5Iv5' width=\"50\" height=\"50\"> \r\n",
        "> You can use **comma (,)** or **plus(+)** to concatenate text. Be extra careful when using the **+** as we also use it for mathematic operations. \r\n",
        ">\r\n",
        "> We cannot use **+** to print text and numbers!\r\n"
      ]
    },
    {
      "cell_type": "markdown",
      "metadata": {
        "id": "4hg9hwxbP9If"
      },
      "source": [
        " **Question 3.4:** Study and run the following code. What is wrong with this code?\r\n",
        "\r\n",
        " Can you fix it?"
      ]
    },
    {
      "cell_type": "code",
      "metadata": {
        "colab": {
          "base_uri": "https://localhost:8080/",
          "height": 233
        },
        "id": "tZikevwzPc6P",
        "outputId": "db571827-cad1-42e2-a080-b83f002da1f0"
      },
      "source": [
        "print(\"Hi\"+5)\r\n",
        "\r\n",
        "# You cannot print String and Integers using plus symbol!\r\n",
        "\r\n",
        "# Provide your solution here"
      ],
      "execution_count": null,
      "outputs": [
        {
          "output_type": "error",
          "ename": "TypeError",
          "evalue": "ignored",
          "traceback": [
            "\u001b[0;31m---------------------------------------------------------------------------\u001b[0m",
            "\u001b[0;31mTypeError\u001b[0m                                 Traceback (most recent call last)",
            "\u001b[0;32m<ipython-input-3-68a2961e34b0>\u001b[0m in \u001b[0;36m<module>\u001b[0;34m()\u001b[0m\n\u001b[0;32m----> 1\u001b[0;31m \u001b[0mprint\u001b[0m\u001b[0;34m(\u001b[0m\u001b[0;34m\"Hi\"\u001b[0m\u001b[0;34m+\u001b[0m\u001b[0;36m5\u001b[0m\u001b[0;34m)\u001b[0m\u001b[0;34m\u001b[0m\u001b[0;34m\u001b[0m\u001b[0m\n\u001b[0m\u001b[1;32m      2\u001b[0m \u001b[0;34m\u001b[0m\u001b[0m\n\u001b[1;32m      3\u001b[0m \u001b[0;31m# You cannot print String and Integers using plus symbol!\u001b[0m\u001b[0;34m\u001b[0m\u001b[0;34m\u001b[0m\u001b[0;34m\u001b[0m\u001b[0m\n\u001b[1;32m      4\u001b[0m \u001b[0;34m\u001b[0m\u001b[0m\n\u001b[1;32m      5\u001b[0m \u001b[0;31m# print(\"Hi\"+str(5))\u001b[0m\u001b[0;34m\u001b[0m\u001b[0;34m\u001b[0m\u001b[0;34m\u001b[0m\u001b[0m\n",
            "\u001b[0;31mTypeError\u001b[0m: must be str, not int"
          ]
        }
      ]
    },
    {
      "cell_type": "markdown",
      "metadata": {
        "id": "be8Fn25VMdin"
      },
      "source": [
        "**Question 4:** Prompt the user to enter a city and then a country, one after the other.\r\n",
        " \r\n",
        "Then print both inputs by seperating it with a comma.\r\n",
        "\r\n",
        "This code should print:\r\n",
        "**London , Paris**\r\n",
        "\r\n"
      ]
    },
    {
      "cell_type": "code",
      "metadata": {
        "id": "d-ydq-SNM70F",
        "colab": {
          "base_uri": "https://localhost:8080/"
        },
        "outputId": "2e64c567-ec07-4adb-a4c8-2b4e7fcc421d"
      },
      "source": [
        "# Provide your solution here\n",
        "\n"
      ],
      "execution_count": null,
      "outputs": [
        {
          "output_type": "stream",
          "text": [
            "Input a city: London\n",
            "Input a country: Paris\n",
            "London , Paris\n"
          ],
          "name": "stdout"
        }
      ]
    },
    {
      "cell_type": "markdown",
      "metadata": {
        "id": "eYukGIUmNOHp"
      },
      "source": [
        "**Question 5:** Prompt the user to enter two numbers, one after the other, and then print their difference. "
      ]
    },
    {
      "cell_type": "code",
      "metadata": {
        "id": "j_YzwhZKNbq8"
      },
      "source": [
        "# Provide your solution here\n",
        "\n"
      ],
      "execution_count": null,
      "outputs": []
    },
    {
      "cell_type": "markdown",
      "metadata": {
        "id": "-UM1UBy3Ns8b"
      },
      "source": [
        "**Question 6:** Create a program to calculate the Celsius to Fahrenheit conversion. \r\n",
        "* Prompt the user to input a Celsius value.\r\n",
        "* Use the following formula **fahrenheit = \r\n",
        "(9/5 * celsius + 32)**"
      ]
    },
    {
      "cell_type": "code",
      "metadata": {
        "id": "GaLLJVpZOEqA"
      },
      "source": [
        "# Provide your solution here\n",
        "\n"
      ],
      "execution_count": null,
      "outputs": []
    },
    {
      "cell_type": "markdown",
      "metadata": {
        "id": "0veexAyGvpm1"
      },
      "source": [
        "<img src='https://drive.google.com/uc?id=1zHRUx7gL2e5LMUMQ1_zPt6V0MI-v5Iv5' width=\"50\" height=\"50\"> \r\n",
        "> It is important to remember that we should handle numerical user input with care. Every time we expect the user to enter an integer, we will need to convert it using the **int()** method.\r\n",
        "\r\n",
        "\r\n"
      ]
    },
    {
      "cell_type": "markdown",
      "metadata": {
        "id": "pJOOGalwOP7m"
      },
      "source": [
        "**Question 7:** Prompt the user to enter one of the two options:\n",
        "* *Coffee* or *Cookie*\n",
        "\n",
        "Then, compare the inputs:\n",
        "*  If the input is *Coffee* print *You ordered a Coffee*\n",
        "*  If the input is *Cookie* print *You ordered a Cookie*\n"
      ]
    },
    {
      "cell_type": "code",
      "metadata": {
        "id": "QfPSAHZHOS_-"
      },
      "source": [
        "# Provide your solution here\n",
        "\n"
      ],
      "execution_count": null,
      "outputs": []
    },
    {
      "cell_type": "markdown",
      "metadata": {
        "id": "uBNo9jdzw7y-"
      },
      "source": [
        "**Question 8.1:** Study and run the following code. \r\n",
        "What does it print?"
      ]
    },
    {
      "cell_type": "code",
      "metadata": {
        "colab": {
          "base_uri": "https://localhost:8080/"
        },
        "id": "174vVd62w8At",
        "outputId": "116b75af-8018-41e3-bd14-4186005718d8"
      },
      "source": [
        "user_number = int(input(\"Provide an integer number: \"))\r\n",
        "\r\n",
        "print(user_number*user_number)\r\n",
        "\r\n",
        "# Prints the number in the power of 2"
      ],
      "execution_count": null,
      "outputs": [
        {
          "output_type": "stream",
          "text": [
            "Provide an integer number: 5\n",
            "25\n"
          ],
          "name": "stdout"
        }
      ]
    },
    {
      "cell_type": "markdown",
      "metadata": {
        "id": "j-VdHAPoR_it"
      },
      "source": [
        "**Question 8.2:** Prompt the user to answer the following question \"How many days are in March?\"\n",
        "*  If the user enters 31, print \"That is correct!\"\n",
        "*  For any other input of a number print \"That is incorrect!\"\n"
      ]
    },
    {
      "cell_type": "code",
      "metadata": {
        "id": "MPGZUowER_p7"
      },
      "source": [
        "# Provide your solution here\n",
        "\n"
      ],
      "execution_count": null,
      "outputs": []
    },
    {
      "cell_type": "markdown",
      "metadata": {
        "id": "JjGGrHm9RAOU"
      },
      "source": [
        "**Question 9:** Prompt the user to enter:\n",
        "\n",
        "1 for *Cappuccino*, 2 for *Latte* or 3 for *Espresso*.\n",
        "\n",
        "*  If the user enters 1, print *You ordered a Cappuccino*\n",
        "*  If the user enters 2, print *You ordered a Latte*\n",
        "*  If the user enters 3, print *You ordered an Espresso*\n",
        "* In any other case, print *Order number is unavailable*"
      ]
    },
    {
      "cell_type": "code",
      "metadata": {
        "id": "1OEu0gpXRAWW"
      },
      "source": [
        "# Provide your solution here\n",
        "\n"
      ],
      "execution_count": null,
      "outputs": []
    },
    {
      "cell_type": "markdown",
      "metadata": {
        "id": "FhOq9aDhSadL"
      },
      "source": [
        "**Question 10:** Prompt the user to enter two numbers. The user can enter any number e.g. 10, 20.33 etc.\r\n",
        "\r\n",
        "Create a program to print the maximum number between these two numbers. "
      ]
    },
    {
      "cell_type": "code",
      "metadata": {
        "id": "Kv6bRsU9Salx"
      },
      "source": [
        "# Provide your solution here\n",
        "\n"
      ],
      "execution_count": null,
      "outputs": []
    },
    {
      "cell_type": "markdown",
      "metadata": {
        "id": "iNPbtKgBT_dY"
      },
      "source": [
        "**Question11a:** Study and run the following program. \r\n",
        "\r\n",
        "We use **and** in our condition, to represent that both conditions **a>b** and **a>c** are true. In this example we compare **a** with **b** and **c**, but what is the larger number between **b** and **c**."
      ]
    },
    {
      "cell_type": "code",
      "metadata": {
        "id": "jA-xY-rsT_3C"
      },
      "source": [
        "a = 5\r\n",
        "b = 10\r\n",
        "c = 20\r\n",
        "if a>b and a>c:\r\n",
        "  print(\"a is bigger than b and c\")"
      ],
      "execution_count": null,
      "outputs": []
    },
    {
      "cell_type": "markdown",
      "metadata": {
        "id": "-Zx1H_LjSvUU"
      },
      "source": [
        "**Question 11b:** Prompt the user to enter three numbers. Create a program to print the maximum number between these three numbers (After completing this task study the solution document to identify different ways of implementing such functionality)."
      ]
    },
    {
      "cell_type": "markdown",
      "metadata": {
        "id": "qcjB4IKshSLP"
      },
      "source": [
        "<img src='https://drive.google.com/uc?id=1TILfsLPhdXLqyGIjILDLcNtvk-wACxyX' width=\"50\" height=\"50\"> \r\n",
        "> There are different ways to solve this challenging task."
      ]
    },
    {
      "cell_type": "code",
      "metadata": {
        "id": "OI7C-hAHSvbm",
        "colab": {
          "base_uri": "https://localhost:8080/"
        },
        "outputId": "148b88c0-8a47-441b-81a9-85bf304fde58"
      },
      "source": [
        "# Provide your solution here\n",
        "\n"
      ],
      "execution_count": 1,
      "outputs": [
        {
          "output_type": "stream",
          "text": [
            "Input the first number: 4\n",
            "Input the second number: 2\n",
            "Input the third number: 8\n",
            "8\n"
          ],
          "name": "stdout"
        }
      ]
    },
    {
      "cell_type": "markdown",
      "metadata": {
        "id": "5SVL43aRTL3G"
      },
      "source": [
        "**Question 12:** Create a program to check if a number is not zero. \n",
        "\n",
        "Prompt the user to enter a number and print the appropriate message as follows.\n",
        "\n",
        "* **Input is zero!** if the number is zero.\n",
        "* **Input is not zero!** if the number is not zero\n"
      ]
    },
    {
      "cell_type": "code",
      "metadata": {
        "id": "lFjpEI3zTMKC"
      },
      "source": [
        "# Provide your solution here\n",
        "\n"
      ],
      "execution_count": null,
      "outputs": []
    },
    {
      "cell_type": "markdown",
      "metadata": {
        "id": "TBLj57XQTyZk"
      },
      "source": [
        "<img src='https://drive.google.com/uc?id=1zHRUx7gL2e5LMUMQ1_zPt6V0MI-v5Iv5' width=\"50\" height=\"50\"> \r\n",
        "> We can use if, elif and else statements to create a program to evaluate a statement. Do not forget to use indentation to indicate the block of codes."
      ]
    },
    {
      "cell_type": "markdown",
      "metadata": {
        "id": "K9_MW-fVCmo8"
      },
      "source": [
        "# Develop small programs"
      ]
    },
    {
      "cell_type": "markdown",
      "metadata": {
        "id": "3n7bTDCNihlM"
      },
      "source": [
        "**Question 13:** Create a program for a calculator to perform the following operations:\n",
        "\n",
        "*   The user will enter the first number\n",
        "*   The user will enter the second number\n",
        "*   The user will select one of the following operations +,-,*,/\n",
        "*   The program will output the results of the calculation\n",
        "\n",
        "Try the program for different inputs such as:\n",
        "* 2, 3, + \n",
        "* 10, 5, -\n",
        "* 5, 10, *\n",
        "* 20, 10, /\n",
        "* 20, 0, /"
      ]
    },
    {
      "cell_type": "markdown",
      "metadata": {
        "id": "me8lfj1fgtfy"
      },
      "source": [
        "<img src='https://drive.google.com/uc?id=1TILfsLPhdXLqyGIjILDLcNtvk-wACxyX' width=\"50\" height=\"50\"> \r\n",
        "> This is a challenging task, make sure you consider all the different inputs when you develop your program."
      ]
    },
    {
      "cell_type": "code",
      "metadata": {
        "id": "QvvorBaajC-L"
      },
      "source": [
        "# Provide your solution here\n",
        "\n"
      ],
      "execution_count": null,
      "outputs": []
    },
    {
      "cell_type": "markdown",
      "metadata": {
        "id": "YyudIzQ0jVlc"
      },
      "source": [
        "**Question 14:** Create a program to compare if the following two phrases are the same:\n",
        "\n",
        "\n",
        "*   *All that glitters is not gold!*\n",
        "*   *all that glitters is not gold!*\n",
        "\n",
        "The program should print *Yes* or *No*.\n",
        "\n"
      ]
    },
    {
      "cell_type": "code",
      "metadata": {
        "id": "7W_z0ELqihtr"
      },
      "source": [
        "# Provide your solution here\n",
        "\n"
      ],
      "execution_count": null,
      "outputs": []
    },
    {
      "cell_type": "markdown",
      "metadata": {
        "id": "rPFeUMh9jtq4"
      },
      "source": [
        "**Question 15:** Create a program to identify the eligibility of a person to enter a cinema to watch a movie. Prompt the user for her/his age and print the appropriate output.\n",
        "* \tA person is eligible to watch the movie if she/he is over 9 years old\n",
        "* \tA person with age between 10 and 20 years ols will need to pay £10\n",
        "*\t  A person with age greater than 60 will pay £5\n",
        "* \tAll the other ages will need to pay £12\n",
        "\n",
        "Provide a Python script to print appropriate messages for every case. Consider incorrect inputs e.g. negative numbers, in this case the program should input *input age is incorrect*."
      ]
    },
    {
      "cell_type": "code",
      "metadata": {
        "id": "B7q0ICVqjtz6"
      },
      "source": [
        "# Provide your solution here\n",
        "\n"
      ],
      "execution_count": null,
      "outputs": []
    },
    {
      "cell_type": "markdown",
      "metadata": {
        "id": "jXUHA_Syu3d5"
      },
      "source": [
        "**Question 16:** Create a program to calculate the cost of potatoes for different user selections. Prompt the user to enter the kilos of potatoes and calculate the final price using the following options:\n",
        "* If the user buys 10 kilos or less, the cost will be £0.75 per kilo\n",
        "*\tIf the user buys 11 to 50 kilos the cost will be £0.65 per kilo\n",
        "*\tIf the user buys over 50 kilos the cost will be £0.5 per kilo\n",
        "*\tFor any other input, print *NA*\n",
        "\n",
        "The program should output the final cost for a user input.\n"
      ]
    },
    {
      "cell_type": "markdown",
      "metadata": {
        "id": "blnsR24whLdX"
      },
      "source": [
        "<img src='https://drive.google.com/uc?id=1TILfsLPhdXLqyGIjILDLcNtvk-wACxyX' width=\"50\" height=\"50\"> \r\n",
        "> This is a challenging task, so take your time."
      ]
    },
    {
      "cell_type": "code",
      "metadata": {
        "id": "xT1m6v-GlFis"
      },
      "source": [
        "# Provide your solution here\n",
        "\n"
      ],
      "execution_count": null,
      "outputs": []
    }
  ]
}